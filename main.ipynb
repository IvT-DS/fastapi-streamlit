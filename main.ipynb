{
 "cells": [
  {
   "cell_type": "code",
   "execution_count": 20,
   "metadata": {},
   "outputs": [],
   "source": [
    "\n",
    "# Добавление каталога в sys.path\n",
    "import sys\n",
    "sys.path.append('/home/ivant/DS_bootcamp/Phase3_lec_hw/Week1/Day1/HW/fastapi-streamlit/api')\n",
    "\n",
    "import PIL\n",
    "from fastapi import FastAPI, File, UploadFile\n",
    "from pydantic import BaseModel\n",
    "from api.utils.model_func import class_id_to_label, load_model, transform_image\n",
    "import cv2\n",
    "import numpy as np\n",
    "import base64\n",
    "from io import BytesIO\n",
    "from fastapi.responses import JSONResponse\n",
    "from PIL import Image\n",
    "import io\n",
    "from pathlib import Path\n",
    "from ultralytics import YOLO"
   ]
  },
  {
   "cell_type": "code",
   "execution_count": 2,
   "metadata": {},
   "outputs": [],
   "source": [
    "model = None \n",
    "app = FastAPI()"
   ]
  },
  {
   "cell_type": "code",
   "execution_count": 3,
   "metadata": {},
   "outputs": [],
   "source": [
    "# Create class of answer: only class name \n",
    "class ImageClass(BaseModel):\n",
    "    prediction: str\n",
    "\n",
    "class TextClass(BaseModel):\n",
    "    text: str"
   ]
  },
  {
   "cell_type": "code",
   "execution_count": 17,
   "metadata": {},
   "outputs": [
    {
     "name": "stderr",
     "output_type": "stream",
     "text": [
      "/tmp/ipykernel_326709/3980485384.py:2: DeprecationWarning: \n",
      "        on_event is deprecated, use lifespan event handlers instead.\n",
      "\n",
      "        Read more about it in the\n",
      "        [FastAPI docs for Lifespan Events](https://fastapi.tiangolo.com/advanced/events/).\n",
      "        \n",
      "  @app.on_event(\"startup\")\n"
     ]
    }
   ],
   "source": [
    "# Load model at startup\n",
    "@app.on_event(\"startup\")\n",
    "def startup_event():\n",
    "    global model\n",
    "    model = load_model()"
   ]
  },
  {
   "cell_type": "code",
   "execution_count": 5,
   "metadata": {},
   "outputs": [],
   "source": [
    "# Функция для рисования bounding boxes\n",
    "def draw_boxes(image, detections):\n",
    "    if 'boxes' in detections:\n",
    "        for box in detections['boxes']:\n",
    "            # Распаковываем значения из кортежа\n",
    "            x1, y1, x2, y2, conf, cls = box\n",
    "            # Преобразуем координаты в целые числа, если это еще не сделано\n",
    "            x1, y1, x2, y2 = map(int, [x1, y1, x2, y2])\n",
    "            # Рисуем прямоугольник на изображении\n",
    "            cv2.rectangle(image, (x1, y1), (x2, y2), (255, 0, 0), 2)\n",
    "            # Опционально: добавление текста к bounding box\n",
    "            cv2.putText(image, f'Conf: {conf:.2f}, Class: {cls}', (x1, y1 - 10), cv2.FONT_HERSHEY_SIMPLEX, 0.9, (255, 255, 255), 2)\n",
    "    return image"
   ]
  },
  {
   "cell_type": "code",
   "execution_count": 6,
   "metadata": {},
   "outputs": [],
   "source": [
    "@app.post('/detect')\n",
    "async def detect_objects(file: UploadFile = File(...)):\n",
    "    # Чтение изображения\n",
    "    image_bytes = await file.read()\n",
    "    image = np.frombuffer(image_bytes, dtype=np.uint8)\n",
    "    image = cv2.imdecode(image, cv2.IMREAD_COLOR)\n",
    "\n",
    "    # Вызов вашей модели для получения детекций\n",
    "    # Здесь предполагается, что detections - это список словарей с координатами bounding boxes\n",
    "    detections = model.predict(image)\n",
    "\n",
    "    # Рисование bounding boxes на изображении\n",
    "    # test_detections = {'boxes': [(100, 100, 200, 200, 0.9, 1)]}\n",
    "    image_with_boxes = draw_boxes(image, detections)\n",
    "\n",
    "    # Конвертация обратно в формат, пригодный для отправки через HTTP\n",
    "    _, buffer = cv2.imencode('.jpg', image_with_boxes)\n",
    "    img_str = base64.b64encode(buffer).decode('utf-8')\n",
    "\n",
    "    return JSONResponse(content={\"image\": img_str})"
   ]
  },
  {
   "cell_type": "code",
   "execution_count": 7,
   "metadata": {},
   "outputs": [],
   "source": [
    "test_img = '/home/ivant/Downloads/Test_images/1. Ships/1f8b6650c_jpg.rf.2f6c610e2ad91d0bc71134043c532e0e.jpg'"
   ]
  },
  {
   "cell_type": "code",
   "execution_count": 9,
   "metadata": {},
   "outputs": [],
   "source": [
    "test_image_path = Path('/home/ivant/Downloads/Test_images/1. Ships/1f8b6650c_jpg.rf.2f6c610e2ad91d0bc71134043c532e0e.jpg')\n",
    "assert test_image_path.exists(), \"Test image does not exist.\""
   ]
  },
  {
   "cell_type": "code",
   "execution_count": 23,
   "metadata": {},
   "outputs": [],
   "source": [
    "# Путь к файлу конфигурации и весам модели\n",
    "weights_path = 'api/utils/best_yolo_weights.pt'"
   ]
  },
  {
   "cell_type": "code",
   "execution_count": 27,
   "metadata": {},
   "outputs": [],
   "source": [
    "def load_model():\n",
    "    '''\n",
    "    Returns YOLO8 model with trained weights\n",
    "    '''\n",
    "\n",
    "    '''\n",
    "    Возвращает модель YOLO с загруженными весами.\n",
    "    '''\n",
    "\n",
    "    # Создание экземпляра модели без загрузки весов\n",
    "    model = YOLO(weights_path)\n",
    "\n",
    "    # Загрузка весов модели\n",
    "    # model.load(weights_path)\n",
    "\n",
    "    return model"
   ]
  },
  {
   "cell_type": "code",
   "execution_count": 28,
   "metadata": {},
   "outputs": [],
   "source": [
    "model = load_model()"
   ]
  },
  {
   "cell_type": "code",
   "execution_count": 29,
   "metadata": {},
   "outputs": [
    {
     "name": "stdout",
     "output_type": "stream",
     "text": [
      "\n",
      "0: 640x640 2 ships, 16.6ms\n",
      "Speed: 1.9ms preprocess, 16.6ms inference, 419.2ms postprocess per image at shape (1, 3, 640, 640)\n"
     ]
    }
   ],
   "source": [
    "# Загрузка и предсказание\n",
    "image = cv2.imread(str(test_image_path))\n",
    "detections = model.predict(image)"
   ]
  },
  {
   "cell_type": "code",
   "execution_count": 36,
   "metadata": {},
   "outputs": [
    {
     "data": {
      "text/plain": [
       "[ultralytics.engine.results.Results object with attributes:\n",
       " \n",
       " boxes: ultralytics.engine.results.Boxes object\n",
       " keypoints: None\n",
       " masks: None\n",
       " names: {0: 'ship'}\n",
       " obb: None\n",
       " orig_img: array([[[59, 51, 21],\n",
       "         [76, 68, 38],\n",
       "         [90, 82, 52],\n",
       "         ...,\n",
       "         [66, 58, 28],\n",
       "         [80, 72, 42],\n",
       "         [90, 82, 52]],\n",
       " \n",
       "        [[63, 55, 25],\n",
       "         [76, 68, 38],\n",
       "         [88, 80, 50],\n",
       "         ...,\n",
       "         [67, 59, 29],\n",
       "         [77, 69, 39],\n",
       "         [83, 75, 45]],\n",
       " \n",
       "        [[66, 58, 28],\n",
       "         [75, 67, 37],\n",
       "         [83, 75, 45],\n",
       "         ...,\n",
       "         [70, 62, 32],\n",
       "         [74, 66, 36],\n",
       "         [74, 66, 36]],\n",
       " \n",
       "        ...,\n",
       " \n",
       "        [[81, 73, 44],\n",
       "         [77, 69, 40],\n",
       "         [73, 65, 36],\n",
       "         ...,\n",
       "         [67, 55, 31],\n",
       "         [72, 60, 36],\n",
       "         [74, 62, 38]],\n",
       " \n",
       "        [[80, 72, 43],\n",
       "         [77, 69, 40],\n",
       "         [76, 68, 39],\n",
       "         ...,\n",
       "         [67, 55, 31],\n",
       "         [68, 56, 32],\n",
       "         [67, 55, 31]],\n",
       " \n",
       "        [[79, 71, 42],\n",
       "         [78, 70, 41],\n",
       "         [79, 71, 42],\n",
       "         ...,\n",
       "         [68, 56, 32],\n",
       "         [65, 53, 29],\n",
       "         [63, 51, 27]]], dtype=uint8)\n",
       " orig_shape: (768, 768)\n",
       " path: 'image0.jpg'\n",
       " probs: None\n",
       " save_dir: '/home/ivant/DS_bootcamp/Phase2_lec_hw/Week2/Day5_pet_project/cv_project/runs/detect/predict'\n",
       " speed: {'preprocess': 1.890420913696289, 'inference': 16.61825180053711, 'postprocess': 419.22879219055176}]"
      ]
     },
     "execution_count": 36,
     "metadata": {},
     "output_type": "execute_result"
    }
   ],
   "source": [
    "detections"
   ]
  },
  {
   "cell_type": "code",
   "execution_count": 31,
   "metadata": {},
   "outputs": [],
   "source": [
    "# Функция для рисования bounding boxes\n",
    "def draw_boxes(image, detections):\n",
    "    if 'boxes' in detections:\n",
    "        for box in detections['boxes']:\n",
    "            # Распаковываем значения из кортежа\n",
    "            x1, y1, x2, y2, conf, cls = box\n",
    "            # Преобразуем координаты в целые числа, если это еще не сделано\n",
    "            x1, y1, x2, y2 = map(int, [x1, y1, x2, y2])\n",
    "            # Рисуем прямоугольник на изображении\n",
    "            cv2.rectangle(image, (x1, y1), (x2, y2), (255, 0, 0), 2)\n",
    "            # Опционально: добавление текста к bounding box\n",
    "            cv2.putText(image, f'Conf: {conf:.2f}, Class: {cls}', (x1, y1 - 10), cv2.FONT_HERSHEY_SIMPLEX, 0.9, (255, 255, 255), 2)\n",
    "    return image"
   ]
  },
  {
   "cell_type": "code",
   "execution_count": 34,
   "metadata": {},
   "outputs": [],
   "source": [
    "# Рисование bounding boxes на изображении\n",
    "# test_detections = {'boxes': [(100, 100, 200, 200, 0.9, 1)]}\n",
    "image_with_boxes = draw_boxes(image, detections)\n",
    "\n",
    "# Конвертация обратно в формат, пригодный для отправки через HTTP\n",
    "_, buffer = cv2.imencode('.jpg', image_with_boxes)\n",
    "img_str = base64.b64encode(buffer).decode('utf-8')\n",
    "\n",
    "json_res = JSONResponse(content={\"image\": img_str})"
   ]
  },
  {
   "cell_type": "code",
   "execution_count": 35,
   "metadata": {},
   "outputs": [
    {
     "data": {
      "text/plain": [
       "<starlette.responses.JSONResponse at 0x7c6a89194710>"
      ]
     },
     "execution_count": 35,
     "metadata": {},
     "output_type": "execute_result"
    }
   ],
   "source": [
    "json_res"
   ]
  }
 ],
 "metadata": {
  "kernelspec": {
   "display_name": "Python 3",
   "language": "python",
   "name": "python3"
  },
  "language_info": {
   "codemirror_mode": {
    "name": "ipython",
    "version": 3
   },
   "file_extension": ".py",
   "mimetype": "text/x-python",
   "name": "python",
   "nbconvert_exporter": "python",
   "pygments_lexer": "ipython3",
   "version": "3.12.1"
  }
 },
 "nbformat": 4,
 "nbformat_minor": 2
}
